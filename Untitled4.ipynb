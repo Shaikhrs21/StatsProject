{
  "nbformat": 4,
  "nbformat_minor": 0,
  "metadata": {
    "colab": {
      "provenance": []
    },
    "kernelspec": {
      "name": "python3",
      "display_name": "Python 3"
    },
    "language_info": {
      "name": "python"
    }
  },
  "cells": [
    {
      "cell_type": "code",
      "source": [
        "import pandas as pd\n",
        "import numpy as np\n",
        "import scipy as scipy\n",
        "from scipy import stats\n",
        "\n",
        "# Read the CSV file into a DataFrame named Sales_Data\n",
        "Sales_Data = pd.read_csv(\"/Sales Data.csv\")\n",
        "\n",
        "\n",
        "#  DataFrame is named 'Sales_Data'\n",
        "group1 = Sales_Data[Sales_Data['City'] == 'New York']['Sales']\n",
        "group2 = Sales_Data[Sales_Data['City'] == 'Los Angeles']['Sales']\n",
        "\n",
        "# Perform the t-test\n",
        "t_statistic, p_value = stats.ttest_ind(group1, group2)\n",
        "\n",
        "# Print the results\n",
        "print(\"T-statistic:\", t_statistic)\n",
        "print(\"P-value:\", p_value)\n",
        "\n",
        "\n"
      ],
      "metadata": {
        "colab": {
          "base_uri": "https://localhost:8080/"
        },
        "id": "C3ZIb5vjxFbI",
        "outputId": "827fe9de-6adc-4417-f2c5-f6fe31da87ad"
      },
      "execution_count": 30,
      "outputs": [
        {
          "output_type": "stream",
          "name": "stdout",
          "text": [
            "T-statistic: nan\n",
            "P-value: nan\n"
          ]
        }
      ]
    },
    {
      "cell_type": "code",
      "source": [
        "import pandas as pd\n",
        "from scipy.stats import chi2_contingency\n",
        "\n",
        "# Example data\n",
        "data = {\n",
        "    \"Shipping Mode\": [\"Standard\", \"Express\", \"Same Day\"],\n",
        "    \"Consumer\": [50, 20, 10],\n",
        "    \"Corporate\": [30, 25, 15],\n",
        "    \"Home Office\": [20, 15, 5]\n",
        "}\n",
        "\n",
        "# Create a contingency table\n",
        "df = pd.DataFrame(data).set_index(\"Shipping Mode\")\n",
        "\n",
        "# Perform Chi-square test\n",
        "chi2, p, dof, expected = chi2_contingency(df)\n",
        "\n",
        "print(f\"Chi2 Statistic: {chi2}\")\n",
        "print(f\"P-value: {p}\")\n",
        "print(f\"Degrees of Freedom: {dof}\")\n",
        "print(\"Expected Frequencies:\")\n",
        "print(expected)\n"
      ],
      "metadata": {
        "colab": {
          "base_uri": "https://localhost:8080/"
        },
        "id": "D2AD-M5h8P7P",
        "outputId": "35b66cf7-d2c7-4769-b30c-fbdcb73f2abc"
      },
      "execution_count": 31,
      "outputs": [
        {
          "output_type": "stream",
          "name": "stdout",
          "text": [
            "Chi2 Statistic: 6.955357142857143\n",
            "P-value: 0.1382662872597481\n",
            "Degrees of Freedom: 4\n",
            "Expected Frequencies:\n",
            "[[42.10526316 36.84210526 21.05263158]\n",
            " [25.26315789 22.10526316 12.63157895]\n",
            " [12.63157895 11.05263158  6.31578947]]\n"
          ]
        }
      ]
    }
  ]
}